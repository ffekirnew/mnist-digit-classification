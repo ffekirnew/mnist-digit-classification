{
 "cells": [
  {
   "attachments": {},
   "cell_type": "markdown",
   "metadata": {},
   "source": [
    "# Multivariate Logistic Regression\n",
    "One-vs-All Logistic Regression, also known as One-vs-Rest Logistic Regression, is a technique used for multivariate logistic regression where there are more than two classes to be predicted. It extends the concept of logistic regression from binary classification to multiclass classification.\n",
    "\n",
    "In multivariate logistic regression, the goal is to predict the probability of each class label based on a set of input features. However, logistic regression models are inherently designed for binary classification, where they estimate the probability of one class relative to the other.\n",
    "\n",
    "The process of this will be as follows:\n",
    "1. Implement logistic regression for 2 classes\n",
    "2. Implement multivariate logistic regression by extending the logistic regression\n",
    "3. Prepare the dataset\n",
    "4. Train the model\n",
    "5. Test the model\n",
    "6. If possible, improve accuracy"
   ]
  },
  {
   "cell_type": "code",
   "execution_count": 48,
   "metadata": {},
   "outputs": [],
   "source": [
    "from typing import List, Tuple\n",
    "import numpy as np\n",
    "\n",
    "Feature = float\n",
    "FeatureVector = List[Feature]\n",
    "Dataset = List[FeatureVector]\n",
    "\n",
    "Label = int\n",
    "Labels = List[Label]\n",
    "\n",
    "LearningRate = float\n",
    "Epoch = int"
   ]
  },
  {
   "attachments": {},
   "cell_type": "markdown",
   "metadata": {},
   "source": [
    "## Step 1: Logistic Regression"
   ]
  },
  {
   "cell_type": "code",
   "execution_count": 76,
   "metadata": {},
   "outputs": [],
   "source": [
    "class LogisticRegression:\n",
    "    def __init__(self, dataset: Dataset, labels: Labels, learning_rate: LearningRate, epochs: Epoch) -> None:\n",
    "        self.dataset = dataset\n",
    "        self.labels = labels\n",
    "        self.learning_rate = learning_rate\n",
    "        self.epochs = epochs\n",
    "\n",
    "    def train(self) -> Tuple[List[float], float]:\n",
    "        weights = np.random.random(len(self.dataset[0]))\n",
    "        bias = np.random.random()\n",
    "\n",
    "        for _ in range(self.epochs):\n",
    "            index = np.random.randint(0, len(self.dataset) - 1)\n",
    "            feature = self.dataset[index]\n",
    "            label = self.labels[index]\n",
    "\n",
    "            weights, bias = self._logistic_loss(weights, bias, feature, label)\n",
    "\n",
    "        return weights, bias\n",
    "\n",
    "    def predict(self, feature: FeatureVector, weights: List[float], bias: float) -> float:\n",
    "        z = np.dot(weights, feature) + bias\n",
    "        return self._sigmoid(z)\n",
    "\n",
    "    def _logistic_loss(self, weights: List[float], bias: float, feature: FeatureVector, label: Label) -> Tuple[List[float], float]:\n",
    "        predicted = self.predict(feature, weights, bias)\n",
    "        error = predicted - label\n",
    "\n",
    "        weights = [w - (self.learning_rate * error * f) for w, f in zip(weights, feature)]\n",
    "        bias = bias - (self.learning_rate * error)\n",
    "\n",
    "        return weights, bias\n",
    "\n",
    "    def _sigmoid(self, z: float) -> float:\n",
    "        return 1 / (1 + np.exp(-z))\n"
   ]
  },
  {
   "attachments": {},
   "cell_type": "markdown",
   "metadata": {},
   "source": [
    "## Step 2: Multivariate Logistic Regression"
   ]
  },
  {
   "cell_type": "code",
   "execution_count": 77,
   "metadata": {},
   "outputs": [],
   "source": [
    "class MulticlassLogisticRegression:\n",
    "    def __init__(self, dataset: Dataset, labels: Labels, learning_rate: LearningRate, epochs: Epoch) -> None:\n",
    "        self.dataset = dataset\n",
    "        self.labels = labels\n",
    "        self.models = {}\n",
    "        self.learning_rate = learning_rate\n",
    "        self.epochs = epochs\n",
    "\n",
    "        self._train()\n",
    "\n",
    "    def _train(self) -> None:\n",
    "        for label in self.labels:\n",
    "            if label not in self.models:\n",
    "                labels = [1 if x == label else 0 for x in self.labels]\n",
    "                model = LogisticRegression(self.dataset, labels, self.learning_rate, self.epochs)\n",
    "                slope, intercept = model.train()\n",
    "                self.models[label] = (model, slope, intercept)\n",
    "\n",
    "    def predict(self, feature_vector: FeatureVector) -> int:\n",
    "        best_score = 0\n",
    "        best_label = None\n",
    "\n",
    "        for label, (model, slope, intercept) in self.models.items():\n",
    "            score = model.predict(feature_vector, slope, intercept)\n",
    "\n",
    "            if score > best_score:\n",
    "                best_score = score\n",
    "                best_label = label\n",
    "        \n",
    "        return best_label\n"
   ]
  },
  {
   "attachments": {},
   "cell_type": "markdown",
   "metadata": {},
   "source": [
    "## Step 3: Prepare the dataset"
   ]
  },
  {
   "cell_type": "code",
   "execution_count": 8,
   "metadata": {},
   "outputs": [],
   "source": [
    "# Importing the libraries\n",
    "from mnist import MNIST\n",
    "\n",
    "mndata = MNIST('../datasets')\n",
    "mndata.gz = True\n",
    "training_images, training_labels = mndata.load_training()\n",
    "test_images, test_labels = mndata.load_testing()"
   ]
  },
  {
   "cell_type": "code",
   "execution_count": 73,
   "metadata": {},
   "outputs": [],
   "source": [
    "training_images, training_labels = np.array(training_images[:1000]), np.array(training_labels[:1000])\n"
   ]
  },
  {
   "attachments": {},
   "cell_type": "markdown",
   "metadata": {},
   "source": [
    "## Step 4 & 5: Train the model and test it using different hyperparameters"
   ]
  },
  {
   "cell_type": "code",
   "execution_count": 80,
   "metadata": {},
   "outputs": [],
   "source": [
    "def accuracy(model, images, labels):\n",
    "    correct = 0\n",
    "    for image, label in zip(images, labels):\n",
    "        predicted = model.predict(image)\n",
    "        if predicted == label:\n",
    "            correct += 1\n",
    "    return correct / len(images)"
   ]
  },
  {
   "cell_type": "code",
   "execution_count": 82,
   "metadata": {},
   "outputs": [
    {
     "name": "stderr",
     "output_type": "stream",
     "text": [
      "/tmp/ipykernel_37669/2698951480.py:35: RuntimeWarning: overflow encountered in exp\n",
      "  return 1 / (1 + np.exp(-z))\n"
     ]
    }
   ],
   "source": [
    "test_images, test_labels = np.array(test_images), np.array(test_labels)\n",
    "learning_rates = [0.0001, 0.001, 0.01, 0.1, 1.0, 1.5]\n",
    "accuracies = []\n",
    "\n",
    "for learning_rate in learning_rates:\n",
    "    model = MulticlassLogisticRegression(training_images, training_labels, learning_rate, 1000)\n",
    "    accuracies.append(accuracy(model, test_images, test_labels))"
   ]
  },
  {
   "cell_type": "code",
   "execution_count": 83,
   "metadata": {},
   "outputs": [
    {
     "data": {
      "image/png": "[encoded data removed]",
      "text/plain": [
       "<Figure size 640x480 with 1 Axes>"
      ]
     },
     "metadata": {},
     "output_type": "display_data"
    },
    {
     "name": "stdout",
     "output_type": "stream",
     "text": [
      "[0.56, 0.58, 0.75, 0.61, 0.54, 0.5]\n"
     ]
    }
   ],
   "source": [
    "import matplotlib.pyplot as plt\n",
    "\n",
    "plt.plot(learning_rates, accuracies)\n",
    "plt.xlabel('Learning Rate')\n",
    "plt.ylabel('Accuracy')\n",
    "plt.show()\n",
    "\n",
    "print(accuracies)\n"
   ]
  },
  {
   "cell_type": "code",
   "execution_count": 68,
   "metadata": {},
   "outputs": [
    {
     "name": "stdout",
     "output_type": "stream",
     "text": [
      "[]\n"
     ]
    }
   ],
   "source": [
    "print(accuracies)"
   ]
  }
 ],
 "metadata": {
  "kernelspec": {
   "display_name": "venv",
   "language": "python",
   "name": "python3"
  },
  "language_info": {
   "codemirror_mode": {
    "name": "ipython",
    "version": 3
   },
   "file_extension": ".py",
   "mimetype": "text/x-python",
   "name": "python",
   "nbconvert_exporter": "python",
   "pygments_lexer": "ipython3",
   "version": "3.11.2"
  },
  "orig_nbformat": 4
 },
 "nbformat": 4,
 "nbformat_minor": 2
}
