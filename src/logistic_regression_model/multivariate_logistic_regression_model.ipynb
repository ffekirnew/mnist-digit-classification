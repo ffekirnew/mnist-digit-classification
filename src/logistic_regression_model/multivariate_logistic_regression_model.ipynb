{
 "cells": [
  {
   "attachments": {},
   "cell_type": "markdown",
   "metadata": {},
   "source": [
    "# Multivariate Logistic Regression\n",
    "One-vs-All Logistic Regression, also known as One-vs-Rest Logistic Regression, is a technique used for multivariate logistic regression where there are more than two classes to be predicted. It extends the concept of logistic regression from binary classification to multiclass classification.\n",
    "\n",
    "In multivariate logistic regression, the goal is to predict the probability of each class label based on a set of input features. However, logistic regression models are inherently designed for binary classification, where they estimate the probability of one class relative to the other.\n",
    "\n",
    "The process of this will be as follows:\n",
    "1. Implement logistic regression for 2 classes\n",
    "2. Implement multivariate logistic regression by extending the logistic regression\n",
    "3. Prepare the dataset\n",
    "4. Train the model\n",
    "5. Test the model\n",
    "6. If possible, improve accuracy\n",
    "\n",
    "First of all, though, we will define our data types that will be used trough out this solution."
   ]
  },
  {
   "cell_type": "code",
   "execution_count": 1,
   "metadata": {},
   "outputs": [],
   "source": [
    "from typing import Callable, List, Tuple\n",
    "import numpy as np\n",
    "\n",
    "Feature = float\n",
    "FeatureVector = List[Feature]\n",
    "Dataset = List[FeatureVector]\n",
    "\n",
    "Label = int\n",
    "Labels = List[Label]\n",
    "\n",
    "LearningRate = float\n",
    "Epoch = int\n",
    "\n",
    "FeatureExtractor = Callable"
   ]
  },
  {
   "attachments": {},
   "cell_type": "markdown",
   "metadata": {},
   "source": [
    "## Step 1: Logistic Regression\n",
    "\n",
    "The general case will consist of a dataset of `m` points and `n` features. Thus, the model has `m`\n",
    "weights (think of them as the generalization of the slope) and one bias. The notation follows:\n",
    "- The data points are `x`<sup>(`1`)</sup>, `x`<sup>(`2`)</sup>, … , `x`<sup>(`m`)</sup>. Each point is of the for`m` `x`<sup>(`i`)</sup> = (`x`<sub>`1`</sub><sup>(`i`)</sup>, `x`<sub>`2`</sub><sup>(`i`)</sup>, … , `x`<sub>`n`</sub><sup>(`i`)</sup>).\n",
    "- The corresponding labels are `y`<sub>`1`</sub>, `y`<sub>`2`</sub>, … , `y`<sub>`m`</sub>.\n",
    "- The weights of the model are `w`<sub>`1`</sub>, `w`<sub>`2`</sub>, … , `w`<sub>`m`</sub>.\n",
    "- The bias of the model is `b`.\n",
    "\n",
    "They combine in the formula:\n",
    "\n",
    "y = w<sub>1</sub>x<sup>(1)</sup> + w<sub>2</sub>x<sup>(2)</sup> + … + w<sub>m</sub>x<sup>(m)</sup> + b,\n",
    "\n",
    "And `y` can be any one of the various classes `y`<sub>`1`</sub>, `y`<sub>`2`</sub>, … , `y`<sub>`m`</sub>.\n",
    "\n",
    "The plan here is to be able to guess each `w`<sub>`i`</sub> and `b` so that once given the `x`s the model can predict the value of `y`. and the plan is as follows:\n",
    "- Randomly generate `w`<sub>`i`</sub> and `b`\n",
    "- Iteratively improve the `w`<sub>`i`</sub> and `b` so that they are closer to the datapoints\n",
    "- Return the final formula (slope and intercept)"
   ]
  },
  {
   "cell_type": "code",
   "execution_count": 2,
   "metadata": {},
   "outputs": [],
   "source": [
    "class LogisticRegression:\n",
    "    def __init__(self, dataset: Dataset, labels: Labels, learning_rate: LearningRate, epochs: Epoch) -> None:\n",
    "        self.dataset = dataset\n",
    "        self.labels = labels\n",
    "        self.learning_rate = learning_rate\n",
    "        self.epochs = epochs\n",
    "\n",
    "    def train(self) -> Tuple[List[float], float]:\n",
    "        weights = np.random.random(len(self.dataset[0]))\n",
    "        bias = np.random.random()\n",
    "\n",
    "        for _ in range(self.epochs):\n",
    "            index = np.random.randint(0, len(self.dataset) - 1)\n",
    "            feature = self.dataset[index]\n",
    "            label = self.labels[index]\n",
    "\n",
    "            weights, bias = self._logistic_loss(weights, bias, feature, label)\n",
    "\n",
    "        return weights, bias\n",
    "\n",
    "    def predict(self, feature: FeatureVector, weights: List[float], bias: float) -> float:\n",
    "        z = np.dot(weights, feature) + bias\n",
    "        return self._sigmoid(z)\n",
    "\n",
    "    def _logistic_loss(self, weights: List[float], bias: float, feature: FeatureVector, label: Label) -> Tuple[List[float], float]:\n",
    "        predicted = self.predict(feature, weights, bias)\n",
    "        error = predicted - label\n",
    "\n",
    "        weights = [w - (self.learning_rate * error * f) for w, f in zip(weights, feature)]\n",
    "        bias = bias - (self.learning_rate * error)\n",
    "\n",
    "        return weights, bias\n",
    "\n",
    "    def _sigmoid(self, z: float) -> float:\n",
    "        return 1 / (1 + np.exp(-z))\n"
   ]
  },
  {
   "attachments": {},
   "cell_type": "markdown",
   "metadata": {},
   "source": [
    "## Step 2: Multivariate Logistic Regression"
   ]
  },
  {
   "cell_type": "code",
   "execution_count": 3,
   "metadata": {},
   "outputs": [],
   "source": [
    "class MulticlassLogisticRegression:\n",
    "    def __init__(self, dataset: Dataset, labels: Labels, learning_rate: LearningRate, epochs: Epoch, feature_extractor: FeatureExtractor) -> None:\n",
    "        self.dataset = dataset\n",
    "        self.labels = labels\n",
    "        self.models = {}\n",
    "        self.learning_rate = learning_rate\n",
    "        self.epochs = epochs\n",
    "        self.feature_extractor = feature_extractor\n",
    "\n",
    "        self._train()\n",
    "\n",
    "    def _train(self) -> None:\n",
    "        for label in self.labels:\n",
    "            if label not in self.models:\n",
    "                labels = [1 if x == label else 0 for x in self.labels]\n",
    "                features = [self.feature_extractor(data) for data in self.dataset]  # Apply feature extraction\n",
    "                model = LogisticRegression(features, labels, self.learning_rate, self.epochs)\n",
    "                slope, intercept = model.train()\n",
    "                self.models[label] = (model, slope, intercept)\n",
    "\n",
    "\n",
    "    def predict(self, feature_vector: FeatureVector) -> int:\n",
    "        extracted_feature = self.feature_extractor(feature_vector)  # Apply feature extraction\n",
    "        best_score = 0\n",
    "        best_label = None\n",
    "\n",
    "        for label, (model, slope, intercept) in self.models.items():\n",
    "            score = model.predict(extracted_feature, slope, intercept)\n",
    "\n",
    "            if score > best_score:\n",
    "                best_score = score\n",
    "                best_label = label\n",
    "        \n",
    "        return best_label\n",
    "\n"
   ]
  },
  {
   "attachments": {},
   "cell_type": "markdown",
   "metadata": {},
   "source": [
    "## Step 3: Prepare the dataset"
   ]
  },
  {
   "cell_type": "code",
   "execution_count": 4,
   "metadata": {},
   "outputs": [],
   "source": [
    "from mnist import MNIST\n",
    "\n",
    "mndata = MNIST('../datasets')\n",
    "mndata.gz = True\n",
    "training_images, training_labels = mndata.load_training()\n",
    "test_images, test_labels = mndata.load_testing()"
   ]
  },
  {
   "cell_type": "code",
   "execution_count": 5,
   "metadata": {},
   "outputs": [],
   "source": [
    "training_images, training_labels = np.array(training_images[:1000]), np.array(training_labels[:1000])"
   ]
  },
  {
   "attachments": {},
   "cell_type": "markdown",
   "metadata": {},
   "source": [
    "## Step 4 & 5: Train the model and test it using different hyperparameters"
   ]
  },
  {
   "cell_type": "code",
   "execution_count": 6,
   "metadata": {},
   "outputs": [],
   "source": [
    "def accuracy(model, images, labels):\n",
    "    correct = 0\n",
    "    for image, label in zip(images, labels):\n",
    "        predicted = model.predict(image)\n",
    "        if predicted == label:\n",
    "            correct += 1\n",
    "    return correct / len(images)"
   ]
  },
  {
   "attachments": {},
   "cell_type": "markdown",
   "metadata": {},
   "source": [
    "### Subroutine: Implement different feature extraction methods"
   ]
  },
  {
   "cell_type": "code",
   "execution_count": 7,
   "metadata": {},
   "outputs": [],
   "source": [
    "def default_feature_extractor(dataset):\n",
    "    return dataset\n",
    "\n",
    "def histogram_of_pixel_intensity(dataset, num_bins=784):\n",
    "    features = []\n",
    "    for image in dataset:\n",
    "        # Compute the histogram of pixel intensities\n",
    "        histogram, _ = np.histogram(image, bins=num_bins, range=(0, 255))\n",
    "        features.append(histogram)\n",
    "    return features\n",
    "\n",
    "feature_extractors = {\n",
    "    \"Default\": default_feature_extractor,\n",
    "    \"Histogram of Pixel Intensity\": histogram_of_pixel_intensity,\n",
    "}"
   ]
  },
  {
   "cell_type": "code",
   "execution_count": 8,
   "metadata": {},
   "outputs": [
    {
     "name": "stderr",
     "output_type": "stream",
     "text": [
      "/tmp/ipykernel_27498/2698951480.py:35: RuntimeWarning: overflow encountered in exp\n",
      "  return 1 / (1 + np.exp(-z))\n"
     ]
    }
   ],
   "source": [
    "test_images, test_labels = np.array(test_images), np.array(test_labels)\n",
    "learning_rates = [0.0001, 0.001, 0.01, 0.1, 1.0, 1.5]\n",
    "accuracies = {}\n",
    "\n",
    "# test the different featuer extractors and learning rates\n",
    "for feature_extractor_name, feature_extractor in feature_extractors.items():\n",
    "    accuracies[feature_extractor_name] = []\n",
    "    for learning_rate in learning_rates:\n",
    "        model = MulticlassLogisticRegression(training_images, training_labels, learning_rate, 100, feature_extractor)\n",
    "        accuracies[feature_extractor_name].append(accuracy(model, test_images, test_labels))"
   ]
  },
  {
   "cell_type": "code",
   "execution_count": null,
   "metadata": {},
   "outputs": [
    {
     "data": {
      "image/png": "[encoded data removed]",
      "text/plain": [
       "<Figure size 640x480 with 1 Axes>"
      ]
     },
     "metadata": {},
     "output_type": "display_data"
    },
    {
     "name": "stdout",
     "output_type": "stream",
     "text": [
      "[0.6215, 0.6818, 0.5938, 0.6843, 0.7121, 0.6523]\n"
     ]
    }
   ],
   "source": [
    "import matplotlib.pyplot as plt\n",
    "\n",
    "for feature_extractor_name, accuracy in accuracies.items():\n",
    "    plt.plot(learning_rates, accuracy, label=feature_extractor_name)\n",
    "\n",
    "    plt.xlabel(\"Learning Rate\")\n",
    "    plt.ylabel(\"Accuracy\")\n",
    "    plt.legend()\n",
    "    plt.show()\n"
   ]
  }
 ],
 "metadata": {
  "kernelspec": {
   "display_name": "venv",
   "language": "python",
   "name": "python3"
  },
  "language_info": {
   "codemirror_mode": {
    "name": "ipython",
    "version": 3
   },
   "file_extension": ".py",
   "mimetype": "text/x-python",
   "name": "python",
   "nbconvert_exporter": "python",
   "pygments_lexer": "ipython3",
   "version": "3.11.2"
  },
  "orig_nbformat": 4
 },
 "nbformat": 4,
 "nbformat_minor": 2
}
