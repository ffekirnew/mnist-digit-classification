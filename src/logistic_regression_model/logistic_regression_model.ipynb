{
 "cells": [
  {
   "cell_type": "markdown",
   "metadata": {},
   "source": [
    "# Logistic Regression"
   ]
  },
  {
   "cell_type": "code",
   "execution_count": 3,
   "metadata": {},
   "outputs": [],
   "source": [
    "from typing import List, Tuple\n",
    "import numpy as np\n",
    "import random\n",
    "\n",
    "Feature = float\n",
    "Label = float\n",
    "Dataset = List[Tuple[Feature, Label]]\n",
    "LearningRate = float\n",
    "Epoch = int"
   ]
  },
  {
   "cell_type": "code",
   "execution_count": 6,
   "metadata": {},
   "outputs": [],
   "source": [
    "class LogisticRegression:\n",
    "    def __init__(self, dataset: Dataset, learning_rate: LearningRate, epochs: Epoch) -> None:\n",
    "        self.dataset = dataset\n",
    "        self.learning_rate = learning_rate\n",
    "        self.epochs = epochs\n",
    "\n",
    "    def train(self) -> Tuple[float, float]:\n",
    "        slope = random.random()\n",
    "        intercept = random.random()\n",
    "\n",
    "        for epoch in range(self.epochs):\n",
    "            feature, label = random.choice(self.dataset)\n",
    "\n",
    "            slope, intercept = self._logistic_loss(slope, intercept, feature, label)\n",
    "\n",
    "        return slope, intercept\n",
    "\n",
    "    def predict(self, feature: Feature, slope: float, intercept: float) -> float:\n",
    "        z = slope * feature + intercept\n",
    "        return self._sigmoid(z)\n",
    "\n",
    "    def _logistic_loss(self, slope: float, intercept: float, feature: Feature, label: Label) -> Tuple[float, float]:\n",
    "        z = slope * feature + intercept\n",
    "        predicted = self._sigmoid(z)\n",
    "        error = predicted - label\n",
    "\n",
    "        slope = slope - (self.learning_rate * error * feature)\n",
    "        intercept = intercept - (self.learning_rate * error)\n",
    "\n",
    "        return slope, intercept\n",
    "\n",
    "    def _sigmoid(self, z: float) -> float:\n",
    "        return 1 / (1 + np.exp(-z))\n"
   ]
  }
 ],
 "metadata": {
  "kernelspec": {
   "display_name": "venv",
   "language": "python",
   "name": "python3"
  },
  "language_info": {
   "codemirror_mode": {
    "name": "ipython",
    "version": 3
   },
   "file_extension": ".py",
   "mimetype": "text/x-python",
   "name": "python",
   "nbconvert_exporter": "python",
   "pygments_lexer": "ipython3",
   "version": "3.11.2"
  },
  "orig_nbformat": 4
 },
 "nbformat": 4,
 "nbformat_minor": 2
}
